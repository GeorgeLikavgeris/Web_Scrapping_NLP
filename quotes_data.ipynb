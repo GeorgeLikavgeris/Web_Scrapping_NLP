{
 "cells": [
  {
   "cell_type": "markdown",
   "metadata": {},
   "source": [
    "On this project i will use the method of the web scrapping in order to collect quotes from one site, once i have collected the quotes i will proceed with Natural Language Process (NLP)."
   ]
  },
  {
   "cell_type": "markdown",
   "metadata": {},
   "source": [
    "Importing the libraries "
   ]
  },
  {
   "cell_type": "code",
   "execution_count": 1,
   "metadata": {},
   "outputs": [],
   "source": [
    "import requests\n",
    "from bs4 import BeautifulSoup\n",
    "import csv\n",
    "import time\n"
   ]
  },
  {
   "cell_type": "markdown",
   "metadata": {},
   "source": [
    "Create the function to scare the internet page in order to collect the data. Once the data are collected they are saved on a csv file for further analysis."
   ]
  },
  {
   "cell_type": "code",
   "execution_count": null,
   "metadata": {},
   "outputs": [],
   "source": [
    "def scrape_quotes():\n",
    "    url = \"https://quotes.toscrape.com\"\n",
    "    pages_to_scrape = 10 #number of pages to scrap\n",
    "    page_count  = 0 \n",
    "    \n",
    "    with open('quotes_csv',mode='a',newline='',encoding='utf-8') as file:\n",
    "        writer = csv.writer(file)\n",
    "        \n",
    "        if file.tell()==0:\n",
    "            writer.writerow(['Quote','Author','Tgs'])\n",
    "            \n",
    "        while url and page_count<pages_to_scrape:\n",
    "            response = requests.get(url)\n",
    "            soup = BeautifulSoup(response.text,'html.parser')\n",
    "            quotes=soup.find_all('div',class_='quote')\n",
    "            for quote in quotes:\n",
    "                text = quote.find('span',class_='text').get_text()\n",
    "                author = quote.find('small',class_='author').get_text()\n",
    "                tags = [tag.get_text() for tag in quote.find_all('a',class_='tag')]\n",
    "                writer.writerow([text,author,', '.join(tags)])\n",
    "            \n",
    "            page_count +=1\n",
    "            print(f\"Data collected from the page {page_count}\")\n",
    "            next_button = soup.find('li',class_='next')\n",
    "            if next_button:\n",
    "                next_page_link = next_button.find('a')['href']\n",
    "                url = \"https://quotes.toscrape.com\" + next_page_link\n",
    "            else:\n",
    "                url = None #there is no next page\n",
    "                \n",
    "            time.sleep(60)\n",
    "            print(\"Data collection was completed\")\n",
    "\n",
    "scrape_quotes()"
   ]
  },
  {
   "cell_type": "markdown",
   "metadata": {},
   "source": [
    "Import the data after the scape procees."
   ]
  },
  {
   "cell_type": "code",
   "execution_count": 2,
   "metadata": {},
   "outputs": [
    {
     "data": {
      "text/html": [
       "<div>\n",
       "<style scoped>\n",
       "    .dataframe tbody tr th:only-of-type {\n",
       "        vertical-align: middle;\n",
       "    }\n",
       "\n",
       "    .dataframe tbody tr th {\n",
       "        vertical-align: top;\n",
       "    }\n",
       "\n",
       "    .dataframe thead th {\n",
       "        text-align: right;\n",
       "    }\n",
       "</style>\n",
       "<table border=\"1\" class=\"dataframe\">\n",
       "  <thead>\n",
       "    <tr style=\"text-align: right;\">\n",
       "      <th></th>\n",
       "      <th>Quote</th>\n",
       "      <th>Author</th>\n",
       "      <th>Tgs</th>\n",
       "    </tr>\n",
       "  </thead>\n",
       "  <tbody>\n",
       "    <tr>\n",
       "      <th>0</th>\n",
       "      <td>“The world as we have created it is a process ...</td>\n",
       "      <td>Albert Einstein</td>\n",
       "      <td>change, deep-thoughts, thinking, world</td>\n",
       "    </tr>\n",
       "    <tr>\n",
       "      <th>1</th>\n",
       "      <td>“It is our choices, Harry, that show what we t...</td>\n",
       "      <td>J.K. Rowling</td>\n",
       "      <td>abilities, choices</td>\n",
       "    </tr>\n",
       "    <tr>\n",
       "      <th>2</th>\n",
       "      <td>“There are only two ways to live your life. On...</td>\n",
       "      <td>Albert Einstein</td>\n",
       "      <td>inspirational, life, live, miracle, miracles</td>\n",
       "    </tr>\n",
       "    <tr>\n",
       "      <th>3</th>\n",
       "      <td>“The person, be it gentleman or lady, who has ...</td>\n",
       "      <td>Jane Austen</td>\n",
       "      <td>aliteracy, books, classic, humor</td>\n",
       "    </tr>\n",
       "    <tr>\n",
       "      <th>4</th>\n",
       "      <td>“Imperfection is beauty, madness is genius and...</td>\n",
       "      <td>Marilyn Monroe</td>\n",
       "      <td>be-yourself, inspirational</td>\n",
       "    </tr>\n",
       "  </tbody>\n",
       "</table>\n",
       "</div>"
      ],
      "text/plain": [
       "                                               Quote           Author  \\\n",
       "0  “The world as we have created it is a process ...  Albert Einstein   \n",
       "1  “It is our choices, Harry, that show what we t...     J.K. Rowling   \n",
       "2  “There are only two ways to live your life. On...  Albert Einstein   \n",
       "3  “The person, be it gentleman or lady, who has ...      Jane Austen   \n",
       "4  “Imperfection is beauty, madness is genius and...   Marilyn Monroe   \n",
       "\n",
       "                                            Tgs  \n",
       "0        change, deep-thoughts, thinking, world  \n",
       "1                            abilities, choices  \n",
       "2  inspirational, life, live, miracle, miracles  \n",
       "3              aliteracy, books, classic, humor  \n",
       "4                    be-yourself, inspirational  "
      ]
     },
     "execution_count": 2,
     "metadata": {},
     "output_type": "execute_result"
    }
   ],
   "source": [
    "import pandas as pd\n",
    "\n",
    "data = pd.read_csv(\"C:\\\\Users\\\\georg\\\\OneDrive\\\\Υπολογιστής\\\\Data Science Projects\\\\Web_Scrapping_NLP\\\\quotes_csv\")\n",
    "data.head()"
   ]
  },
  {
   "cell_type": "markdown",
   "metadata": {},
   "source": [
    "Data Preprocessing"
   ]
  },
  {
   "cell_type": "code",
   "execution_count": 6,
   "metadata": {},
   "outputs": [
    {
     "data": {
      "text/plain": [
       "(100, 6)"
      ]
     },
     "execution_count": 6,
     "metadata": {},
     "output_type": "execute_result"
    }
   ],
   "source": [
    "#checking the shape of the dataset\n",
    "data.shape"
   ]
  },
  {
   "cell_type": "code",
   "execution_count": 7,
   "metadata": {},
   "outputs": [
    {
     "data": {
      "text/plain": [
       "Quote                object\n",
       "Author               object\n",
       "Tgs                  object\n",
       "Cleaned_Quote        object\n",
       "Tokens               object\n",
       "Lemmatized_Tokens    object\n",
       "dtype: object"
      ]
     },
     "execution_count": 7,
     "metadata": {},
     "output_type": "execute_result"
    }
   ],
   "source": [
    "#checking the data types of the columns\n",
    "data.dtypes"
   ]
  },
  {
   "cell_type": "code",
   "execution_count": 8,
   "metadata": {},
   "outputs": [
    {
     "data": {
      "text/plain": [
       "Quote                0\n",
       "Author               0\n",
       "Tgs                  3\n",
       "Cleaned_Quote        0\n",
       "Tokens               0\n",
       "Lemmatized_Tokens    0\n",
       "dtype: int64"
      ]
     },
     "execution_count": 8,
     "metadata": {},
     "output_type": "execute_result"
    }
   ],
   "source": [
    "#checking for null values\n",
    "data.isnull().sum()"
   ]
  },
  {
   "cell_type": "code",
   "execution_count": 9,
   "metadata": {},
   "outputs": [
    {
     "data": {
      "text/plain": [
       "(97, 6)"
      ]
     },
     "execution_count": 9,
     "metadata": {},
     "output_type": "execute_result"
    }
   ],
   "source": [
    "#dealing with the missing values\n",
    "data.dropna(subset=['Tgs'], inplace=True)\n",
    "data.shape"
   ]
  },
  {
   "cell_type": "markdown",
   "metadata": {},
   "source": [
    "Exploratory Data Analysis - EDA"
   ]
  },
  {
   "cell_type": "code",
   "execution_count": 10,
   "metadata": {},
   "outputs": [
    {
     "name": "stdout",
     "output_type": "stream",
     "text": [
      "Author\n",
      "Albert Einstein     10\n",
      "J.K. Rowling         8\n",
      "Mark Twain           6\n",
      "Marilyn Monroe       6\n",
      "Dr. Seuss            6\n",
      "Jane Austen          5\n",
      "C.S. Lewis           5\n",
      "Bob Marley           3\n",
      "Suzanne Collins      2\n",
      "Charles Bukowski     2\n",
      "Name: count, dtype: int64\n"
     ]
    }
   ],
   "source": [
    "#checking the first 10 Authors with the most quotes\n",
    "author_counts = data['Author'].value_counts()\n",
    "print(author_counts.head(10))"
   ]
  },
  {
   "cell_type": "code",
   "execution_count": 11,
   "metadata": {},
   "outputs": [
    {
     "name": "stdout",
     "output_type": "stream",
     "text": [
      "Tgs\n",
      "love                    14\n",
      "inspirational           13\n",
      "life                    13\n",
      "humor                   12\n",
      "books                   11\n",
      "reading                  7\n",
      "friendship               5\n",
      "truth                    4\n",
      "friends                  4\n",
      "attributed-no-source     3\n",
      "Name: count, dtype: int64\n"
     ]
    }
   ],
   "source": [
    "#checking the top 10 tags with the biggest frequency\n",
    "tags_counts = data['Tgs'].str.split(', ').explode().value_counts()\n",
    "print(tags_counts.head(10))"
   ]
  },
  {
   "cell_type": "code",
   "execution_count": 12,
   "metadata": {},
   "outputs": [
    {
     "name": "stdout",
     "output_type": "stream",
     "text": [
      "Tgs\n",
      "(books, reading)         4\n",
      "(friendship, love)       3\n",
      "(inspirational, life)    3\n",
      "(inspirational, love)    2\n",
      "(books, writing)         2\n",
      "(life, yourself)         2\n",
      "(life, love)             2\n",
      "(books, friends)         2\n",
      "(death, life)            2\n",
      "(books, classic)         2\n",
      "Name: count, dtype: int64\n"
     ]
    }
   ],
   "source": [
    "#checking the pair of the tags with the highest frequency\n",
    "from itertools import combinations\n",
    "tags_combinations = data['Tgs'].str.split(', ').apply(lambda x: list(combinations(sorted(x),2)))\n",
    "tags_comb_counts = tags_combinations.explode().value_counts()\n",
    "print(tags_comb_counts.head(10))"
   ]
  },
  {
   "cell_type": "markdown",
   "metadata": {},
   "source": [
    "Natural Language Processing - NLP"
   ]
  },
  {
   "cell_type": "markdown",
   "metadata": {},
   "source": [
    "1. Preprocessing"
   ]
  },
  {
   "cell_type": "code",
   "execution_count": 13,
   "metadata": {},
   "outputs": [
    {
     "name": "stdout",
     "output_type": "stream",
     "text": [
      "0    world created process thinking cannot changed ...\n",
      "1               choices harry show truly far abilities\n",
      "2    two ways live life one though nothing miracle ...\n",
      "3    person gentleman lady pleasure good novel must...\n",
      "4    imperfection beauty madness genius better abso...\n",
      "Name: Cleaned_Quote, dtype: object\n"
     ]
    }
   ],
   "source": [
    "#importing the libraries \n",
    "import re\n",
    "import nltk\n",
    "from nltk.corpus import stopwords\n",
    "\n",
    "stop_words = set(stopwords.words('english'))\n",
    "\n",
    "#create the function for cleaning the text from the quotes\n",
    "def clean_text(text):\n",
    "    \n",
    "    #applying lowercase \n",
    "    text = text.lower()\n",
    "    \n",
    "    #removing \n",
    "    text = re.sub(r'[^a-z0-9\\s]', '',text)\n",
    "    \n",
    "    #removing stepwords\n",
    "    text = ' '.join([word for word in text.split() if word not in stop_words])\n",
    "    \n",
    "    #remove numbers\n",
    "    text = re.sub(r'\\d+', '',text)\n",
    "    \n",
    "    return text\n",
    "\n",
    "#applying the function on the text\n",
    "\n",
    "data['Cleaned_Quote'] = data['Quote'].apply(clean_text)\n",
    "print(data['Cleaned_Quote'].head())\n",
    "    "
   ]
  },
  {
   "cell_type": "markdown",
   "metadata": {},
   "source": [
    "2. Tokenization "
   ]
  },
  {
   "cell_type": "code",
   "execution_count": 14,
   "metadata": {},
   "outputs": [
    {
     "name": "stdout",
     "output_type": "stream",
     "text": [
      "0    [world, created, process, thinking, can, not, ...\n",
      "1        [choices, harry, show, truly, far, abilities]\n",
      "2    [two, ways, live, life, one, though, nothing, ...\n",
      "3    [person, gentleman, lady, pleasure, good, nove...\n",
      "4    [imperfection, beauty, madness, genius, better...\n",
      "Name: Tokens, dtype: object\n"
     ]
    }
   ],
   "source": [
    "from nltk.tokenize import word_tokenize\n",
    "data['Tokens'] = data['Cleaned_Quote'].apply(word_tokenize)\n",
    "print(data['Tokens'].head())"
   ]
  },
  {
   "cell_type": "markdown",
   "metadata": {},
   "source": [
    "3. Lemmatization "
   ]
  },
  {
   "cell_type": "code",
   "execution_count": 27,
   "metadata": {},
   "outputs": [
    {
     "name": "stdout",
     "output_type": "stream",
     "text": [
      "                                              Tokens  \\\n",
      "0  [world, created, process, thinking, can, not, ...   \n",
      "1      [choices, harry, show, truly, far, abilities]   \n",
      "2  [two, ways, live, life, one, though, nothing, ...   \n",
      "3  [person, gentleman, lady, pleasure, good, nove...   \n",
      "4  [imperfection, beauty, madness, genius, better...   \n",
      "\n",
      "                                   Lemmatized_Tokens  \n",
      "0  [world, created, process, thinking, can, not, ...  \n",
      "1         [choice, harry, show, truly, far, ability]  \n",
      "2  [two, way, live, life, one, though, nothing, m...  \n",
      "3  [person, gentleman, lady, pleasure, good, nove...  \n",
      "4  [imperfection, beauty, madness, genius, better...  \n"
     ]
    }
   ],
   "source": [
    "import nltk\n",
    "from nltk.stem import WordNetLemmatizer\n",
    "\n",
    "lemmatizer = WordNetLemmatizer()\n",
    "\n",
    "data['Lemmatized_Tokens'] = data['Tokens'].apply(lambda x: [lemmatizer.lemmatize(token) for token in x])\n",
    "\n",
    "print(data[['Tokens','Lemmatized_Tokens']].head())"
   ]
  },
  {
   "cell_type": "markdown",
   "metadata": {},
   "source": [
    "Sentiment Analysis "
   ]
  },
  {
   "cell_type": "code",
   "execution_count": 18,
   "metadata": {},
   "outputs": [
    {
     "name": "stdout",
     "output_type": "stream",
     "text": [
      "                                               Quote  sentiment  \\\n",
      "0  “The world as we have created it is a process ...   0.000000   \n",
      "1  “It is our choices, Harry, that show what we t...   0.300000   \n",
      "2  “There are only two ways to live your life. On...   0.003788   \n",
      "3  “The person, be it gentleman or lady, who has ...  -0.050000   \n",
      "4  “Imperfection is beauty, madness is genius and...  -0.277778   \n",
      "\n",
      "  sentiment_label  \n",
      "0         Neutral  \n",
      "1        Positive  \n",
      "2        Positive  \n",
      "3        Negative  \n",
      "4        Negative  \n"
     ]
    }
   ],
   "source": [
    "from textblob import TextBlob\n",
    "\n",
    "#calculating the sentiment \n",
    "data['sentiment'] = data['Quote'].apply(lambda x: TextBlob(x).sentiment.polarity)\n",
    "\n",
    "#classification of the sentiment\n",
    "data['sentiment_label'] = data['sentiment'].apply(lambda x: 'Positive' if x>0 else ('Negative' if x<0 else 'Neutral'))\n",
    "\n",
    "print(data[['Quote', 'sentiment', 'sentiment_label']].head())\n"
   ]
  },
  {
   "cell_type": "code",
   "execution_count": 19,
   "metadata": {},
   "outputs": [
    {
     "data": {
      "text/plain": [
       "<Axes: title={'center': 'Sentiment Distribution'}, xlabel='sentiment_label'>"
      ]
     },
     "execution_count": 19,
     "metadata": {},
     "output_type": "execute_result"
    },
    {
     "data": {
      "image/png": "[encoded data removed]",
      "text/plain": [
       "<Figure size 640x480 with 1 Axes>"
      ]
     },
     "metadata": {},
     "output_type": "display_data"
    }
   ],
   "source": [
    "data['sentiment_label'].value_counts().plot(kind='bar', title='Sentiment Distribution')"
   ]
  },
  {
   "cell_type": "markdown",
   "metadata": {},
   "source": [
    "Pie Chart"
   ]
  },
  {
   "cell_type": "code",
   "execution_count": 20,
   "metadata": {},
   "outputs": [
    {
     "data": {
      "text/plain": [
       "<Axes: title={'center': 'Sentiment Breakdown'}, ylabel='count'>"
      ]
     },
     "execution_count": 20,
     "metadata": {},
     "output_type": "execute_result"
    },
    {
     "data": {
      "image/png": "[encoded data removed]",
      "text/plain": [
       "<Figure size 640x480 with 1 Axes>"
      ]
     },
     "metadata": {},
     "output_type": "display_data"
    }
   ],
   "source": [
    "import matplotlib.pyplot as plt\n",
    "data['sentiment_label'].value_counts().plot.pie(autopct='%1.1f%%', title='Sentiment Breakdown')"
   ]
  },
  {
   "cell_type": "markdown",
   "metadata": {},
   "source": [
    "Top quotes per statment (positive & negative)."
   ]
  },
  {
   "cell_type": "code",
   "execution_count": 21,
   "metadata": {},
   "outputs": [
    {
     "name": "stdout",
     "output_type": "stream",
     "text": [
      "Top Positive Quotes:\n",
      "                                                 Quote  sentiment\n",
      "18  “Good friends, good books, and a sleepy consci...   0.766667\n",
      "29  “One good thing about music, when it hits you,...   0.700000\n",
      "26  “If you want your children to be intelligent, ...   0.650000\n",
      "Top Positive Quotes:\n",
      "                                                 Quote  sentiment\n",
      "71  “Some people never go crazy. What truly horrib...  -0.800000\n",
      "55  “The difference between genius and stupidity i...  -0.600000\n",
      "24  “Beauty is in the eye of the beholder and it m...  -0.322222\n"
     ]
    }
   ],
   "source": [
    "#top 3 positive quotes for positive sentement \n",
    "top_positive = data.nlargest(3,'sentiment')[['Quote','sentiment']]\n",
    "print(\"Top Positive Quotes:\\n\",top_positive)\n",
    "\n",
    "#top 3 negative quotes for positive sentement \n",
    "top_negative = data.nsmallest(3,'sentiment')[['Quote','sentiment']]\n",
    "print(\"Top Positive Quotes:\\n\",top_negative)\n"
   ]
  },
  {
   "cell_type": "code",
   "execution_count": 22,
   "metadata": {},
   "outputs": [
    {
     "data": {
      "text/html": [
       "<div>\n",
       "<style scoped>\n",
       "    .dataframe tbody tr th:only-of-type {\n",
       "        vertical-align: middle;\n",
       "    }\n",
       "\n",
       "    .dataframe tbody tr th {\n",
       "        vertical-align: top;\n",
       "    }\n",
       "\n",
       "    .dataframe thead th {\n",
       "        text-align: right;\n",
       "    }\n",
       "</style>\n",
       "<table border=\"1\" class=\"dataframe\">\n",
       "  <thead>\n",
       "    <tr style=\"text-align: right;\">\n",
       "      <th></th>\n",
       "      <th>Quote</th>\n",
       "      <th>Author</th>\n",
       "      <th>Tgs</th>\n",
       "      <th>Cleaned_Quote</th>\n",
       "      <th>Tokens</th>\n",
       "      <th>Lemmatized_Tokens</th>\n",
       "      <th>sentiment</th>\n",
       "      <th>sentiment_label</th>\n",
       "    </tr>\n",
       "  </thead>\n",
       "  <tbody>\n",
       "    <tr>\n",
       "      <th>0</th>\n",
       "      <td>“The world as we have created it is a process ...</td>\n",
       "      <td>Albert Einstein</td>\n",
       "      <td>change, deep-thoughts, thinking, world</td>\n",
       "      <td>world created process thinking cannot changed ...</td>\n",
       "      <td>[world, created, process, thinking, can, not, ...</td>\n",
       "      <td>[world, created, process, thinking, can, not, ...</td>\n",
       "      <td>0.000000</td>\n",
       "      <td>Neutral</td>\n",
       "    </tr>\n",
       "    <tr>\n",
       "      <th>1</th>\n",
       "      <td>“It is our choices, Harry, that show what we t...</td>\n",
       "      <td>J.K. Rowling</td>\n",
       "      <td>abilities, choices</td>\n",
       "      <td>choices harry show truly far abilities</td>\n",
       "      <td>[choices, harry, show, truly, far, abilities]</td>\n",
       "      <td>[choice, harry, show, truly, far, ability]</td>\n",
       "      <td>0.300000</td>\n",
       "      <td>Positive</td>\n",
       "    </tr>\n",
       "    <tr>\n",
       "      <th>2</th>\n",
       "      <td>“There are only two ways to live your life. On...</td>\n",
       "      <td>Albert Einstein</td>\n",
       "      <td>inspirational, life, live, miracle, miracles</td>\n",
       "      <td>two ways live life one though nothing miracle ...</td>\n",
       "      <td>[two, ways, live, life, one, though, nothing, ...</td>\n",
       "      <td>[two, way, live, life, one, though, nothing, m...</td>\n",
       "      <td>0.003788</td>\n",
       "      <td>Positive</td>\n",
       "    </tr>\n",
       "    <tr>\n",
       "      <th>3</th>\n",
       "      <td>“The person, be it gentleman or lady, who has ...</td>\n",
       "      <td>Jane Austen</td>\n",
       "      <td>aliteracy, books, classic, humor</td>\n",
       "      <td>person gentleman lady pleasure good novel must...</td>\n",
       "      <td>[person, gentleman, lady, pleasure, good, nove...</td>\n",
       "      <td>[person, gentleman, lady, pleasure, good, nove...</td>\n",
       "      <td>-0.050000</td>\n",
       "      <td>Negative</td>\n",
       "    </tr>\n",
       "    <tr>\n",
       "      <th>4</th>\n",
       "      <td>“Imperfection is beauty, madness is genius and...</td>\n",
       "      <td>Marilyn Monroe</td>\n",
       "      <td>be-yourself, inspirational</td>\n",
       "      <td>imperfection beauty madness genius better abso...</td>\n",
       "      <td>[imperfection, beauty, madness, genius, better...</td>\n",
       "      <td>[imperfection, beauty, madness, genius, better...</td>\n",
       "      <td>-0.277778</td>\n",
       "      <td>Negative</td>\n",
       "    </tr>\n",
       "  </tbody>\n",
       "</table>\n",
       "</div>"
      ],
      "text/plain": [
       "                                               Quote           Author  \\\n",
       "0  “The world as we have created it is a process ...  Albert Einstein   \n",
       "1  “It is our choices, Harry, that show what we t...     J.K. Rowling   \n",
       "2  “There are only two ways to live your life. On...  Albert Einstein   \n",
       "3  “The person, be it gentleman or lady, who has ...      Jane Austen   \n",
       "4  “Imperfection is beauty, madness is genius and...   Marilyn Monroe   \n",
       "\n",
       "                                            Tgs  \\\n",
       "0        change, deep-thoughts, thinking, world   \n",
       "1                            abilities, choices   \n",
       "2  inspirational, life, live, miracle, miracles   \n",
       "3              aliteracy, books, classic, humor   \n",
       "4                    be-yourself, inspirational   \n",
       "\n",
       "                                       Cleaned_Quote  \\\n",
       "0  world created process thinking cannot changed ...   \n",
       "1             choices harry show truly far abilities   \n",
       "2  two ways live life one though nothing miracle ...   \n",
       "3  person gentleman lady pleasure good novel must...   \n",
       "4  imperfection beauty madness genius better abso...   \n",
       "\n",
       "                                              Tokens  \\\n",
       "0  [world, created, process, thinking, can, not, ...   \n",
       "1      [choices, harry, show, truly, far, abilities]   \n",
       "2  [two, ways, live, life, one, though, nothing, ...   \n",
       "3  [person, gentleman, lady, pleasure, good, nove...   \n",
       "4  [imperfection, beauty, madness, genius, better...   \n",
       "\n",
       "                                   Lemmatized_Tokens  sentiment  \\\n",
       "0  [world, created, process, thinking, can, not, ...   0.000000   \n",
       "1         [choice, harry, show, truly, far, ability]   0.300000   \n",
       "2  [two, way, live, life, one, though, nothing, m...   0.003788   \n",
       "3  [person, gentleman, lady, pleasure, good, nove...  -0.050000   \n",
       "4  [imperfection, beauty, madness, genius, better...  -0.277778   \n",
       "\n",
       "  sentiment_label  \n",
       "0         Neutral  \n",
       "1        Positive  \n",
       "2        Positive  \n",
       "3        Negative  \n",
       "4        Negative  "
      ]
     },
     "execution_count": 22,
     "metadata": {},
     "output_type": "execute_result"
    }
   ],
   "source": [
    "data.head()"
   ]
  }
 ],
 "metadata": {
  "kernelspec": {
   "display_name": "Python 3",
   "language": "python",
   "name": "python3"
  },
  "language_info": {
   "codemirror_mode": {
    "name": "ipython",
    "version": 3
   },
   "file_extension": ".py",
   "mimetype": "text/x-python",
   "name": "python",
   "nbconvert_exporter": "python",
   "pygments_lexer": "ipython3",
   "version": "3.12.0"
  }
 },
 "nbformat": 4,
 "nbformat_minor": 2
}
